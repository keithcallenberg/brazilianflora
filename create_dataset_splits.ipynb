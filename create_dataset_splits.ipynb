{
 "cells": [
  {
   "cell_type": "code",
   "execution_count": 1,
   "metadata": {},
   "outputs": [],
   "source": [
    "import pandas as pd"
   ]
  },
  {
   "cell_type": "code",
   "execution_count": 31,
   "metadata": {},
   "outputs": [
    {
     "name": "stdout",
     "output_type": "stream",
     "text": [
      "      Unnamed: 0                   SPECIES    ID         SET\n",
      "0           1339            Laurus nobilis  2826       train\n",
      "1            736      Micropholis venulosa  3455       train\n",
      "2           1765               Hymenaea sp  2410       train\n",
      "3            178  Machaerium paraguariense  2912       train\n",
      "4            800                 Inga vera  2708       train\n",
      "...          ...                       ...   ...         ...\n",
      "1896         977           Melia azedarach  3230  validation\n",
      "1897        1325     Swietenia macrophylla  4505  validation\n",
      "1898         710        Eugenia pyriformis  1923  validation\n",
      "1899        1299     Swietenia macrophylla  4538  validation\n",
      "1900         219               Dipteryx sp  1602  validation\n",
      "\n",
      "[1901 rows x 4 columns]\n",
      "train         1520\n",
      "validation     191\n",
      "test           190\n",
      "Name: SET, dtype: int64\n"
     ]
    }
   ],
   "source": [
    "df = pd.read_csv('flora.csv')\n",
    "\n",
    "if 'SET' not in df.columns:\n",
    "    df = df.sample(frac=1, random_state=42)\n",
    "    df['SET'] = 'train'\n",
    "    df.iloc[int(.8*len(df)):int(.9*len(df)), df.columns.get_loc('SET')] = 'test'\n",
    "    df.iloc[int(.9*len(df)):len(df), df.columns.get_loc('SET')] = 'validation'\n",
    "    df.to_csv('flora.csv')\n",
    "    \n",
    "print(df)\n",
    "print(df['SET'].value_counts())"
   ]
  }
 ],
 "metadata": {
  "kernelspec": {
   "display_name": "Python 3",
   "language": "python",
   "name": "python3"
  },
  "language_info": {
   "codemirror_mode": {
    "name": "ipython",
    "version": 3
   },
   "file_extension": ".py",
   "mimetype": "text/x-python",
   "name": "python",
   "nbconvert_exporter": "python",
   "pygments_lexer": "ipython3",
   "version": "3.7.6"
  }
 },
 "nbformat": 4,
 "nbformat_minor": 4
}
