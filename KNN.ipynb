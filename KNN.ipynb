{
 "cells": [
  {
   "cell_type": "code",
   "execution_count": 54,
   "metadata": {},
   "outputs": [],
   "source": [
    "import numpy as np\n",
    "import glob\n",
    "from PIL import Image\n",
    "import matplotlib.pyplot as plt\n",
    "import random\n",
    "import tensorflow as tf\n",
    "import skimage.transform\n",
    "import skimage.color\n",
    "from sklearn.linear_model import LogisticRegression\n",
    "from sklearn.metrics import classification_report\n",
    "import glob\n",
    "import code\n",
    "from sklearn.preprocessing import StandardScaler\n",
    "from sklearn.decomposition import PCA\n",
    "from sklearn.linear_model import LogisticRegression\n",
    "from sklearn.pipeline import make_pipeline\n",
    "import numpy as np\n",
    "from sklearn.model_selection import StratifiedKFold\n",
    "from sklearn.model_selection import cross_val_score\n",
    "import matplotlib.pyplot as plt\n",
    "from sklearn.model_selection import learning_curve\n",
    "from sklearn.model_selection import GridSearchCV\n",
    "from sklearn.svm import SVC\n",
    "from sklearn.linear_model import LinearRegression,LogisticRegression\n",
    "from sklearn.decomposition import KernelPCA\n",
    "from sklearn.model_selection import train_test_split\n",
    "from sklearn.manifold import TSNE\n",
    "from sklearn.ensemble import RandomForestClassifier\n",
    "import seaborn as sns\n",
    "from sklearn.metrics import accuracy_score, f1_score, precision_score, recall_score\n",
    "import datetime\n",
    "from PIL import Image\n",
    "from itertools import chain\n",
    "import csv\n",
    "import random\n",
    "import pickle\n",
    "\n",
    "import warnings\n",
    "warnings.filterwarnings('ignore');\n",
    "plt.style.use('ggplot')\n",
    "%matplotlib inline"
   ]
  },
  {
   "cell_type": "code",
   "execution_count": 52,
   "metadata": {},
   "outputs": [],
   "source": [
    "def load_training_data():\n",
    "    paths = [\n",
    "        \"images/1-Acrocarpus fraxinifolius/*\",\n",
    "        \"images/2-Araucaria angustifolia/*\",\n",
    "        \"images/3-Aspidosperma polyneuron/*\",\n",
    "        \"images/4-Aspidosperma sp/*\",\n",
    "        \"images/5-Bagassa guianensis/*\",\n",
    "        \"images/6-Balfourodendron riedelianum/*\",\n",
    "        \"images/7-Bertholletia excelsa/*\",\n",
    "        \"images/8-Bowdichia sp/*\",\n",
    "        \"images/9-Brosimum parinarioides/*\",\n",
    "        \"images/10-Carapa guianensis/*\",\n",
    "        \"images/11-Cariniana estrellensis/*\",\n",
    "        \"images/12-Cedrela fissilis/*\",\n",
    "        \"images/13-Cedrelinga cateniformis/*\",\n",
    "        \"images/14-Cordia goeldiana/*\",\n",
    "        \"images/15-Couratari sp/*\",\n",
    "        \"images/16-Dipteryx sp/*\",\n",
    "        \"images/17-Erisma uncinatum/*\",\n",
    "        \"images/18-Eucalyptus sp/*\",\n",
    "        \"images/19-Eugenia pyriformis/*\",\n",
    "        \"images/20-Euxylophora paraensis/*\",\n",
    "        \"images/21-Goupia glabra/*\",\n",
    "        \"images/22-Grevillea robusta/*\",\n",
    "        \"images/23-Handroanthus sp/*\",\n",
    "        \"images/24-Hymenaea sp/*\",\n",
    "        \"images/25-Hymenolobium petraeum/*\",\n",
    "        \"images/26-Hymenolobium sp/*\",\n",
    "        \"images/27-Inga vera/*\",\n",
    "        \"images/28-Laurus nobilis/*\",\n",
    "        \"images/29-Machaerium paraguariense/*\",\n",
    "        \"images/30-Machaerium sp/*\",\n",
    "        \"images/31-Manilkara elata/*\",\n",
    "        \"images/32-Melia azedarach/*\",\n",
    "        \"images/33-Mezilaurus itauba/*\",\n",
    "        \"images/34-Micropholis venulosa/*\",\n",
    "        \"images/35-Mimosa scabrella/*\",\n",
    "        \"images/36-Muellera campestris/*\",\n",
    "        \"images/37-Myroxylon balsamum/*\",\n",
    "        \"images/38-Nectandra megapotamica/*\",\n",
    "        \"images/39-Ocotea indecora/*\",\n",
    "        \"images/40-Ocotea porosa/*\",\n",
    "        \"images/41-Peltogyne sp/*\",\n",
    "        \"images/42-Pinus sp/*\",\n",
    "        \"images/43-Pouteria pachycarpa/*\",\n",
    "        \"images/44-Simarouba amara/*\",\n",
    "        \"images/45-Swietenia macrophylla/*\",\n",
    "        \"images/46-Vochysia sp/*\",           \n",
    "                \n",
    "    ]\n",
    "    labels = []\n",
    "    image_paths = []\n",
    "    for path in paths:\n",
    "        for im_path in glob.glob(path):\n",
    "            if path == \"images/1-Acrocarpus fraxinifolius/*\":\n",
    "                labels.append(\"Acrocarpus-fraxinifolius\")\n",
    "            if path == \"images/2-Araucaria angustifolia/*\":\n",
    "                labels.append(\"Araucaria angustifolia\")       \n",
    "            if path == \"images/3-Aspidosperma polyneuron/*\":\n",
    "                labels.append(\"Aspidosperma polyneuron\")\n",
    "            if path == \"images/4-Aspidosperma sp/*\":\n",
    "                labels.append(\"Aspidosperma sp\")\n",
    "            if path == \"images/5-Bagassa guianensis/*\":\n",
    "                labels.append(\"Bagassa guianensis\")\n",
    "            if path == \"images/6-Balfourodendron riedelianum/*\":\n",
    "                labels.append(\"Balfourodendron riedelianum\")\n",
    "            if path == \"images/7-Bertholletia excelsa/*\":\n",
    "                labels.append(\"Bertholletia excelsa\")    \n",
    "            if path == \"images/8-Bowdichia sp/*\":\n",
    "                labels.append(\"Bowdichia sp\")\n",
    "            if path == \"images/9-Brosimum parinarioides/*\":\n",
    "                labels.append(\"Brosimum parinarioides\")\n",
    "            if path == \"images/10-Carapa guianensis/*\":\n",
    "                labels.append(\"Carapa guianensis\")  \n",
    "            if path == \"images/11-Cariniana estrellensis/*\":\n",
    "                labels.append(\"Cariniana estrellensis\")\n",
    "            if path == \"images/12-Cedrela fissilis/*\":\n",
    "                labels.append(\"Cedrela fissilis\")\n",
    "            if path == \"images/13-Cedrelinga cateniformis/*\":\n",
    "                labels.append(\"Cedrelinga cateniformis\")\n",
    "            if path == \"images/14-Cordia goeldiana/*\":\n",
    "                labels.append(\"Cordia goeldiana\")\n",
    "            if path == \"images/15-Couratari sp/*\":\n",
    "                labels.append(\"Couratari sp\")\n",
    "            if path == \"images/16-Dipteryx sp/*\":\n",
    "                labels.append(\"Dipteryx sp\")\n",
    "            if path == \"images/17-Erisma uncinatum/*\":\n",
    "                labels.append(\"Erisma uncinatum\")\n",
    "            if path == \"images/18-Eucalyptus sp/*\":\n",
    "                labels.append(\"Eucalyptus sp\")\n",
    "            if path == \"images/19-Eugenia pyriformis/*\":\n",
    "                labels.append(\"Eugenia pyriformis\")\n",
    "            if path == \"images/20-Euxylophora paraensis/*\":\n",
    "                labels.append(\"Euxylophora paraensis\")     \n",
    "            if path == \"images/21-Goupia glabra/*\":\n",
    "                labels.append(\"Goupia glabra\")\n",
    "            if path == \"images/22-Grevillea robusta/*\":\n",
    "                labels.append(\"Grevillea robusta\")\n",
    "            if path == \"images/23-Handroanthus sp/*\":\n",
    "                labels.append(\"Handroanthus sp\")\n",
    "            if path == \"images/24-Hymenaea sp/*\":\n",
    "                labels.append(\"Hymenaea sp\")\n",
    "            if path == \"images/25-Hymenolobium petraeum/*\":\n",
    "                labels.append(\"Hymenolobium petraeum\")\n",
    "            if path == \"images/26-Hymenolobium sp/*\":\n",
    "                labels.append(\"Hymenolobium sp\")\n",
    "            if path == \"images/27-Inga vera/*\":\n",
    "                labels.append(\"Inga vera\")\n",
    "            if path == \"images/28-Laurus nobilis/*\":\n",
    "                labels.append(\"Laurus nobilis\")\n",
    "            if path == \"images/29-Machaerium paraguariense/*\":\n",
    "                labels.append(\"Machaerium paraguariense\")\n",
    "            if path == \"images/30-Machaerium sp/*\":\n",
    "                labels.append(\"Machaerium sp\")       \n",
    "            if path == \"images/31-Manilkara elata/*\":\n",
    "                labels.append(\"Manilkara elata\")\n",
    "            if path == \"images/32-Melia azedarach/*\":\n",
    "                labels.append(\"Melia azedarach\")\n",
    "            if path == \"images/33-Mezilaurus itauba/*\":\n",
    "                labels.append(\"Mezilaurus itauba\")\n",
    "            if path == \"images/34-Micropholis venulosa/*\":\n",
    "                labels.append(\"Micropholis venulosa\")\n",
    "            if path == \"images/35-Mimosa scabrella/*\":\n",
    "                labels.append(\"Mimosa scabrella\")\n",
    "            if path == \"images/36-Muellera campestris/*\":\n",
    "                labels.append(\"Muellera campestris\")\n",
    "            if path == \"images/37-Myroxylon balsamum/*\":\n",
    "                labels.append(\"Myroxylon balsamum\")\n",
    "            if path == \"images/38-Nectandra megapotamica/*\":\n",
    "                labels.append(\"Nectandra megapotamica\")\n",
    "            if path == \"images/39-Ocotea indecora/*\":\n",
    "                labels.append(\"Ocotea indecora\")\n",
    "            if path == \"images/40-Ocotea porosa/*\":\n",
    "                labels.append(\"Ocotea porosa\")        \n",
    "            if path == \"images/41-Peltogyne sp/*\":\n",
    "                labels.append(\"Peltogyne sp\")\n",
    "            if path == \"images/42-Pinus sp/*\":\n",
    "                labels.append(\"Pinus sp\")\n",
    "            if path == \"images/43-Pouteria pachycarpa/*\":\n",
    "                labels.append(\"Pouteria pachycarpa\")\n",
    "            if path == \"images/44-Simarouba amara/*\":\n",
    "                labels.append(\"Simarouba amara\")\n",
    "            if path == \"images/45-Swietenia macrophylla/*\":\n",
    "                labels.append(\"Swietenia macrophylla\")\n",
    "            if path ==  \"images/46-Vochysia sp/*\":\n",
    "                labels.append(\"Vochysia sp\")\n",
    "            image_paths.append(im_path)\n",
    "    return image_paths, labels\n",
    "\n",
    "train_paths, train_labels = load_training_data()"
   ]
  },
  {
   "cell_type": "code",
   "execution_count": 12,
   "metadata": {},
   "outputs": [
    {
     "name": "stdout",
     "output_type": "stream",
     "text": [
      "1901\n",
      "1901\n"
     ]
    }
   ],
   "source": [
    "print(len(train_paths))\n",
    "print(len(train_labels))"
   ]
  },
  {
   "cell_type": "code",
   "execution_count": 13,
   "metadata": {},
   "outputs": [
    {
     "data": {
      "text/plain": [
       "['images/1-Acrocarpus fraxinifolius\\\\0101.jpg',\n",
       " 'images/1-Acrocarpus fraxinifolius\\\\0102.jpg',\n",
       " 'images/1-Acrocarpus fraxinifolius\\\\0103.jpg',\n",
       " 'images/1-Acrocarpus fraxinifolius\\\\0104.jpg',\n",
       " 'images/1-Acrocarpus fraxinifolius\\\\0105.jpg']"
      ]
     },
     "execution_count": 13,
     "metadata": {},
     "output_type": "execute_result"
    }
   ],
   "source": [
    "train_paths[:5]"
   ]
  },
  {
   "cell_type": "code",
   "execution_count": 14,
   "metadata": {},
   "outputs": [
    {
     "data": {
      "text/plain": [
       "['Acrocarpus-fraxinifolius',\n",
       " 'Acrocarpus-fraxinifolius',\n",
       " 'Acrocarpus-fraxinifolius',\n",
       " 'Acrocarpus-fraxinifolius',\n",
       " 'Acrocarpus-fraxinifolius']"
      ]
     },
     "execution_count": 14,
     "metadata": {},
     "output_type": "execute_result"
    }
   ],
   "source": [
    "train_labels[:5]"
   ]
  },
  {
   "cell_type": "code",
   "execution_count": 15,
   "metadata": {},
   "outputs": [],
   "source": [
    "def get_image_features(image_paths, shape):\n",
    "    height, width, channels = shape\n",
    "    array = np.zeros((len(image_paths), height, width, channels))\n",
    "    for i, path in enumerate(image_paths):\n",
    "        im = Image.open(path)\n",
    "        as_array = np.asarray(im)\n",
    "        if len(as_array.shape) == 2: # convert to 3 channels (required input to VGG)\n",
    "            as_array = skimage.color.gray2rgb(as_array)\n",
    "        resized = skimage.transform.resize(as_array, shape)\n",
    "        array[i,:,:] = resized\n",
    "        if (i + 1) % 500 == 0:\n",
    "            print(f'Finished loading {i+1} samples')\n",
    "    return array"
   ]
  },
  {
   "cell_type": "code",
   "execution_count": 16,
   "metadata": {},
   "outputs": [
    {
     "data": {
      "text/plain": [
       "{'Hymenolobium sp': 0,\n",
       " 'Euxylophora paraensis': 1,\n",
       " 'Acrocarpus-fraxinifolius': 2,\n",
       " 'Handroanthus sp': 3,\n",
       " 'Pinus sp': 4,\n",
       " 'Peltogyne sp': 5,\n",
       " 'Vochysia sp': 6,\n",
       " 'Bowdichia sp': 7,\n",
       " 'Araucaria angustifolia': 8,\n",
       " 'Cedrelinga cateniformis': 9,\n",
       " 'Aspidosperma polyneuron': 10,\n",
       " 'Hymenolobium petraeum': 11,\n",
       " 'Eugenia pyriformis': 12,\n",
       " 'Mimosa scabrella': 13,\n",
       " 'Ocotea indecora': 14,\n",
       " 'Bertholletia excelsa': 15,\n",
       " 'Brosimum parinarioides': 16,\n",
       " 'Cariniana estrellensis': 17,\n",
       " 'Ocotea porosa': 18,\n",
       " 'Machaerium paraguariense': 19,\n",
       " 'Eucalyptus sp': 20,\n",
       " 'Bagassa guianensis': 21,\n",
       " 'Nectandra megapotamica': 22,\n",
       " 'Muellera campestris': 23,\n",
       " 'Micropholis venulosa': 24,\n",
       " 'Simarouba amara': 25,\n",
       " 'Aspidosperma sp': 26,\n",
       " 'Grevillea robusta': 27,\n",
       " 'Dipteryx sp': 28,\n",
       " 'Inga vera': 29,\n",
       " 'Manilkara elata': 30,\n",
       " 'Swietenia macrophylla': 31,\n",
       " 'Myroxylon balsamum': 32,\n",
       " 'Goupia glabra': 33,\n",
       " 'Cedrela fissilis': 34,\n",
       " 'Laurus nobilis': 35,\n",
       " 'Hymenaea sp': 36,\n",
       " 'Pouteria pachycarpa': 37,\n",
       " 'Cordia goeldiana': 38,\n",
       " 'Carapa guianensis': 39,\n",
       " 'Couratari sp': 40,\n",
       " 'Melia azedarach': 41,\n",
       " 'Mezilaurus itauba': 42,\n",
       " 'Machaerium sp': 43,\n",
       " 'Erisma uncinatum': 44,\n",
       " 'Balfourodendron riedelianum': 45}"
      ]
     },
     "execution_count": 16,
     "metadata": {},
     "output_type": "execute_result"
    }
   ],
   "source": [
    "categorical_mapping = { label: i for i, label in enumerate(set(train_labels)) }\n",
    "categorical_mapping"
   ]
  },
  {
   "cell_type": "code",
   "execution_count": 17,
   "metadata": {},
   "outputs": [],
   "source": [
    "def labels_to_np_array(labels, mapping):\n",
    "    return np.array([mapping[label] for label in labels])"
   ]
  },
  {
   "cell_type": "code",
   "execution_count": 18,
   "metadata": {},
   "outputs": [],
   "source": [
    "IMAGE_SHAPE = (200, 300, 3)"
   ]
  },
  {
   "cell_type": "code",
   "execution_count": 19,
   "metadata": {},
   "outputs": [
    {
     "name": "stdout",
     "output_type": "stream",
     "text": [
      "Finished loading 500 samples\n",
      "Finished loading 1000 samples\n",
      "Finished loading 1500 samples\n"
     ]
    }
   ],
   "source": [
    "full_training_X = get_image_features(train_paths, IMAGE_SHAPE)\n",
    "full_training_y = labels_to_np_array(train_labels, categorical_mapping)"
   ]
  },
  {
   "cell_type": "code",
   "execution_count": 20,
   "metadata": {},
   "outputs": [],
   "source": [
    "from sklearn.model_selection import train_test_split\n",
    "SEED = 32\n",
    "TEST_SET_SIZE = .2\n",
    "\n",
    "X_train, X_test, y_train, y_test = train_test_split(\n",
    "    full_training_X, full_training_y, test_size=TEST_SET_SIZE, random_state=SEED\n",
    ")"
   ]
  },
  {
   "cell_type": "code",
   "execution_count": 63,
   "metadata": {},
   "outputs": [
    {
     "name": "stdout",
     "output_type": "stream",
     "text": [
      "(1520, 200, 300, 3)\n",
      "(381, 200, 300, 3)\n"
     ]
    },
    {
     "data": {
      "text/plain": [
       "(1901, 200, 300, 3)"
      ]
     },
     "execution_count": 63,
     "metadata": {},
     "output_type": "execute_result"
    }
   ],
   "source": [
    "print(X_train.shape)\n",
    "print(X_test.shape)\n",
    "full_training_X.shape"
   ]
  },
  {
   "cell_type": "code",
   "execution_count": 31,
   "metadata": {},
   "outputs": [],
   "source": [
    "#(number of images, channels* height* width)\n",
    "X_train_KNN = X_train.reshape(1520,200*300*3)\n",
    "X_test_KNN = X_test.reshape(381,200*300*3)"
   ]
  },
  {
   "cell_type": "markdown",
   "metadata": {},
   "source": [
    "KNN= 2"
   ]
  },
  {
   "cell_type": "code",
   "execution_count": 33,
   "metadata": {},
   "outputs": [
    {
     "name": "stdout",
     "output_type": "stream",
     "text": [
      "Accuracy: 0.18110236220472442\n"
     ]
    }
   ],
   "source": [
    "#Import knearest neighbors Classifier model\n",
    "from sklearn.neighbors import KNeighborsClassifier\n",
    "\n",
    "#Create KNN Classifier\n",
    "knn = KNeighborsClassifier(n_neighbors=2)\n",
    "\n",
    "#Train the model using the training sets\n",
    "knn.fit(X_train_KNN, y_train)\n",
    "\n",
    "#Predict the response for test dataset\n",
    "y_pred = knn.predict(X_test_KNN)\n",
    "#Import scikit-learn metrics module for accuracy calculation\n",
    "from sklearn import metrics\n",
    "# Model Accuracy, how often is the classifier correct?\n",
    "print(\"Accuracy:\",metrics.accuracy_score(y_test, y_pred))"
   ]
  },
  {
   "cell_type": "markdown",
   "metadata": {},
   "source": [
    "KNN =5"
   ]
  },
  {
   "cell_type": "code",
   "execution_count": 34,
   "metadata": {},
   "outputs": [
    {
     "name": "stdout",
     "output_type": "stream",
     "text": [
      "Accuracy: 0.2178477690288714\n"
     ]
    }
   ],
   "source": [
    "#Import knearest neighbors Classifier model\n",
    "from sklearn.neighbors import KNeighborsClassifier\n",
    "\n",
    "#Create KNN Classifier\n",
    "knn = KNeighborsClassifier(n_neighbors=5)\n",
    "\n",
    "#Train the model using the training sets\n",
    "knn.fit(X_train_KNN, y_train)\n",
    "\n",
    "#Predict the response for test dataset\n",
    "y_pred = knn.predict(X_test_KNN)\n",
    "\n",
    "#Import scikit-learn metrics module for accuracy calculation\n",
    "from sklearn import metrics\n",
    "# Model Accuracy, how often is the classifier correct?\n",
    "print(\"Accuracy:\",metrics.accuracy_score(y_test, y_pred))"
   ]
  },
  {
   "cell_type": "markdown",
   "metadata": {},
   "source": [
    "KNN =10"
   ]
  },
  {
   "cell_type": "code",
   "execution_count": 35,
   "metadata": {},
   "outputs": [
    {
     "name": "stdout",
     "output_type": "stream",
     "text": [
      "Accuracy: 0.2047244094488189\n"
     ]
    }
   ],
   "source": [
    "#Import knearest neighbors Classifier model\n",
    "from sklearn.neighbors import KNeighborsClassifier\n",
    "\n",
    "#Create KNN Classifier\n",
    "knn = KNeighborsClassifier(n_neighbors=10)\n",
    "\n",
    "#Train the model using the training sets\n",
    "knn.fit(X_train_KNN, y_train)\n",
    "\n",
    "#Predict the response for test dataset\n",
    "y_pred = knn.predict(X_test_KNN)\n",
    "\n",
    "#Import scikit-learn metrics module for accuracy calculation\n",
    "from sklearn import metrics\n",
    "# Model Accuracy, how often is the classifier correct?\n",
    "print(\"Accuracy:\",metrics.accuracy_score(y_test, y_pred))"
   ]
  },
  {
   "cell_type": "markdown",
   "metadata": {},
   "source": [
    "Conclusion:\n",
    "    KNN is not suitable for the large dimensional data. In such cases, dimension needs to reduce to improve the performance"
   ]
  },
  {
   "cell_type": "code",
   "execution_count": 37,
   "metadata": {},
   "outputs": [],
   "source": [
    "from sklearn.externals import joblib"
   ]
  },
  {
   "cell_type": "code",
   "execution_count": 43,
   "metadata": {},
   "outputs": [
    {
     "data": {
      "image/png": "[encoded data removed]",
      "text/plain": [
       "<Figure size 432x288 with 1 Axes>"
      ]
     },
     "metadata": {
      "needs_background": "light"
     },
     "output_type": "display_data"
    }
   ],
   "source": [
    "def plot_bar(y, loc='left', relative=True):\n",
    "    width = 0.35\n",
    "    if loc == 'left':\n",
    "        n = -0.5\n",
    "    elif loc == 'right':\n",
    "        n = 0.5\n",
    " \n",
    "    # calculate counts per type and sort, to ensure their order\n",
    "    unique, counts = np.unique(y, return_counts=True)\n",
    "    sorted_index = np.argsort(unique)\n",
    "    unique = unique[sorted_index]\n",
    " \n",
    "    if relative:\n",
    "        # plot as a percentage\n",
    "        counts = 100*counts[sorted_index]/len(y)\n",
    "        ylabel_text = '% count'\n",
    "    else:\n",
    "        # plot counts\n",
    "        counts = counts[sorted_index]\n",
    "        ylabel_text = 'count'\n",
    " \n",
    "    xtemp = np.arange(len(unique))\n",
    " \n",
    "    plt.bar(xtemp + n*width, counts, align='center', alpha=.7, width=width)\n",
    "    plt.xticks(xtemp, unique)\n",
    "    plt.xlabel('speices type')\n",
    "    plt.ylabel(ylabel_text)\n",
    " \n",
    "plt.suptitle('Amount of images per class')\n",
    "plot_bar(y_train, loc='left')\n",
    "plot_bar(y_test, loc='right')\n",
    "plt.legend([\n",
    "    'train ({0} photos)'.format(len(y_train)),\n",
    "    'test ({0} photos)'.format(len(y_test))\n",
    "]);"
   ]
  },
  {
   "cell_type": "markdown",
   "metadata": {},
   "source": [
    "## Logistic Regressoion"
   ]
  },
  {
   "cell_type": "code",
   "execution_count": 53,
   "metadata": {},
   "outputs": [
    {
     "name": "stderr",
     "output_type": "stream",
     "text": [
      "C:\\Users\\sonali\\Anaconda3\\lib\\site-packages\\sklearn\\linear_model\\_logistic.py:940: ConvergenceWarning: lbfgs failed to converge (status=1):\n",
      "STOP: TOTAL NO. of ITERATIONS REACHED LIMIT.\n",
      "\n",
      "Increase the number of iterations (max_iter) or scale the data as shown in:\n",
      "    https://scikit-learn.org/stable/modules/preprocessing.html\n",
      "Please also refer to the documentation for alternative solver options:\n",
      "    https://scikit-learn.org/stable/modules/linear_model.html#logistic-regression\n",
      "  extra_warning_msg=_LOGISTIC_SOLVER_CONVERGENCE_MSG)\n"
     ]
    },
    {
     "name": "stdout",
     "output_type": "stream",
     "text": [
      "              precision    recall  f1-score   support\n",
      "\n",
      "           0       0.00      0.00      0.00         7\n",
      "           1       0.89      0.89      0.89         9\n",
      "           2       0.00      0.00      0.00         3\n",
      "           3       0.09      0.50      0.15         8\n",
      "           4       0.14      0.62      0.23         8\n",
      "           5       1.00      1.00      1.00        10\n",
      "           6       0.71      0.71      0.71         7\n",
      "           7       0.89      0.73      0.80        11\n",
      "           8       0.75      0.40      0.52        15\n",
      "           9       0.37      1.00      0.54         7\n",
      "          10       0.67      0.50      0.57         4\n",
      "          11       1.00      0.11      0.20         9\n",
      "          12       0.88      0.70      0.78        10\n",
      "          13       1.00      0.09      0.17        11\n",
      "          14       0.29      0.25      0.27         8\n",
      "          15       0.00      0.00      0.00         3\n",
      "          16       0.30      0.50      0.37         6\n",
      "          17       0.33      0.20      0.25         5\n",
      "          18       0.59      1.00      0.74        10\n",
      "          19       0.44      0.57      0.50         7\n",
      "          20       0.50      0.50      0.50         4\n",
      "          21       0.00      0.00      0.00         9\n",
      "          22       0.25      0.25      0.25         4\n",
      "          23       0.29      0.67      0.40         3\n",
      "          24       0.78      0.50      0.61        14\n",
      "          25       0.29      0.22      0.25         9\n",
      "          26       0.25      0.14      0.18         7\n",
      "          27       0.00      0.00      0.00         6\n",
      "          28       1.00      0.14      0.25         7\n",
      "          29       0.50      0.17      0.25         6\n",
      "          30       1.00      1.00      1.00        10\n",
      "          31       0.75      0.19      0.30        16\n",
      "          32       0.85      0.92      0.88        12\n",
      "          33       0.67      0.44      0.53         9\n",
      "          34       0.18      0.40      0.25         5\n",
      "          35       0.00      0.00      0.00        15\n",
      "          36       1.00      0.12      0.22         8\n",
      "          37       0.11      0.18      0.14        11\n",
      "          38       1.00      0.12      0.22         8\n",
      "          39       0.00      0.00      0.00         7\n",
      "          40       0.17      0.33      0.22         3\n",
      "          41       0.45      0.50      0.48        10\n",
      "          42       1.00      0.67      0.80        15\n",
      "          43       0.00      0.00      0.00         4\n",
      "          44       0.29      0.80      0.42        10\n",
      "          45       1.00      0.64      0.78        11\n",
      "\n",
      "    accuracy                           0.44       381\n",
      "   macro avg       0.49      0.41      0.38       381\n",
      "weighted avg       0.56      0.44      0.43       381\n",
      "\n"
     ]
    },
    {
     "name": "stderr",
     "output_type": "stream",
     "text": [
      "C:\\Users\\sonali\\Anaconda3\\lib\\site-packages\\sklearn\\metrics\\_classification.py:1272: UndefinedMetricWarning: Precision and F-score are ill-defined and being set to 0.0 in labels with no predicted samples. Use `zero_division` parameter to control this behavior.\n",
      "  _warn_prf(average, modifier, msg_start, len(result))\n"
     ]
    }
   ],
   "source": [
    "from sklearn.linear_model import LogisticRegression\n",
    "\n",
    "#(number of images, channels* height* width)\n",
    "X_train_lg = X_train.reshape(1520,200*300*3)\n",
    "X_test_lg = X_test.reshape(381,200*300*3)\n",
    "\n",
    "logit_clf = LogisticRegression()\n",
    "logit_clf.fit(X_train_lg, y_train)\n",
    "y_pred = logit_clf.predict(X_test_lg)\n",
    "print(classification_report(y_test, y_pred))"
   ]
  },
  {
   "cell_type": "code",
   "execution_count": null,
   "metadata": {},
   "outputs": [],
   "source": []
  },
  {
   "cell_type": "markdown",
   "metadata": {},
   "source": [
    "## SVM"
   ]
  },
  {
   "cell_type": "code",
   "execution_count": null,
   "metadata": {},
   "outputs": [],
   "source": []
  },
  {
   "cell_type": "code",
   "execution_count": 64,
   "metadata": {},
   "outputs": [
    {
     "name": "stdout",
     "output_type": "stream",
     "text": [
      "Accuracy: 0.6194225721784777\n",
      "Precision: 0.5533814797631211\n",
      "Recall: 0.6194225721784777\n"
     ]
    }
   ],
   "source": [
    "#Import svm model\n",
    "from sklearn import svm\n",
    "\n",
    "#(number of images, channels* height* width)\n",
    "X_train_svm = X_train.reshape(1520,200*300*3)\n",
    "X_test_svm = X_test.reshape(381,200*300*3)\n",
    "\n",
    "#Create a svm Classifier\n",
    "clf = svm.SVC(kernel='rbf') # Linear Kernel\n",
    "\n",
    "#Train the model using the training sets\n",
    "clf.fit(X_train_svm, y_train)\n",
    "\n",
    "#Predict the response for test dataset\n",
    "y_pred = clf.predict(X_test_svm)\n",
    "\n",
    "#Import scikit-learn metrics module for accuracy calculation\n",
    "from sklearn import metrics\n",
    "\n",
    "# Model Accuracy: how often is the classifier correct?\n",
    "print(\"Accuracy:\",metrics.accuracy_score(y_test, y_pred))\n",
    "\n",
    "# Model Precision: what percentage of positive tuples are labeled as such?\n",
    "print(\"Precision:\",metrics.precision_score(y_test, y_pred,average='macro'))\n",
    "\n",
    "# Model Recall: what percentage of positive tuples are labelled as such?\n",
    "print(\"Recall:\",metrics.recall_score(y_test, y_pred,average='micro'))\n",
    "\n",
    "#f1_score(y_true, y_pred, ) \n",
    "# 0.26666666666666666\n",
    "\n",
    "#f1_score(y_true, y_pred, average='micro')\n",
    "# 0.33333333333333331\n",
    "\n",
    "#f1_score(y_true, y_pred, average='weighted') "
   ]
  },
  {
   "cell_type": "code",
   "execution_count": null,
   "metadata": {},
   "outputs": [],
   "source": []
  },
  {
   "cell_type": "markdown",
   "metadata": {},
   "source": [
    "for the optimal perforamce we need to have input feature of same value so standardScaler, reduce the dimension for the better perforamce by PCA, logistic regression for the linear classifeir using pipeline"
   ]
  },
  {
   "cell_type": "code",
   "execution_count": 56,
   "metadata": {},
   "outputs": [
    {
     "name": "stdout",
     "output_type": "stream",
     "text": [
      "Test Accuracy: 0.3381578947368421\n"
     ]
    }
   ],
   "source": [
    "#(number of images, channels* height* width)\n",
    "X_train_kf = X_train.reshape(1520,200*300*3)\n",
    "X_test_kf = X_test.reshape(381,200*300*3)\n",
    "\n",
    "\n",
    "pipe_logreg = make_pipeline(StandardScaler(),\n",
    "                        PCA(n_components=2),\n",
    "                        LogisticRegression(penalty='l2', \n",
    "                                           random_state=1, \n",
    "                                           C=100.0))\n",
    "\n",
    "pipe_logreg.fit(X_train_kf, y_train)\n",
    "y_pred = pipe_logreg.predict(X_test_kf)\n",
    "print('Test Accuracy: {}' .format(pipe_logreg.score(X_train_kf, y_train)))"
   ]
  },
  {
   "cell_type": "markdown",
   "metadata": {},
   "source": [
    "## Kfold cross validation  \n",
    "training dataset is split in to 20 folds from that 19 folds are used in the model training and 1 is used to evaluate the preformace of the model"
   ]
  },
  {
   "cell_type": "code",
   "execution_count": 57,
   "metadata": {},
   "outputs": [
    {
     "name": "stdout",
     "output_type": "stream",
     "text": [
      "Fold:1, Accuracy:0.3157894736842105\n",
      "Fold:2, Accuracy:0.3157894736842105\n",
      "Fold:3, Accuracy:0.34210526315789475\n",
      "Fold:4, Accuracy:0.3815789473684211\n",
      "Fold:5, Accuracy:0.3815789473684211\n",
      "Fold:6, Accuracy:0.2894736842105263\n",
      "Fold:7, Accuracy:0.3157894736842105\n",
      "Fold:8, Accuracy:0.3815789473684211\n",
      "Fold:9, Accuracy:0.34210526315789475\n",
      "Fold:10, Accuracy:0.3157894736842105\n",
      "Fold:11, Accuracy:0.3684210526315789\n",
      "Fold:12, Accuracy:0.39473684210526316\n",
      "Fold:13, Accuracy:0.3815789473684211\n",
      "Fold:14, Accuracy:0.2894736842105263\n",
      "Fold:15, Accuracy:0.34210526315789475\n",
      "Fold:16, Accuracy:0.34210526315789475\n",
      "Fold:17, Accuracy:0.2894736842105263\n",
      "Fold:18, Accuracy:0.3026315789473684\n",
      "Fold:19, Accuracy:0.3157894736842105\n",
      "Fold:20, Accuracy:0.34210526315789475\n"
     ]
    }
   ],
   "source": [
    "kfold = StratifiedKFold(n_splits=20,random_state=1).split(X_train_kf, y_train)\n",
    "\n",
    "scores = []\n",
    "for k, (train, test) in enumerate(kfold):\n",
    "    pipe_logreg.fit(X_train_kf[train], y_train[train])\n",
    "    score = pipe_logreg.score(X_train_kf[test], y_train[test])\n",
    "    scores.append(score)\n",
    "    print('Fold:{}, Accuracy:{}'.format(k+1, score))"
   ]
  },
  {
   "cell_type": "code",
   "execution_count": 58,
   "metadata": {},
   "outputs": [
    {
     "name": "stdout",
     "output_type": "stream",
     "text": [
      "Cross validation accuracy: 0.338 +/- 0.034\n"
     ]
    }
   ],
   "source": [
    "print('Cross validation accuracy: %.3f +/- %.3f' % (np.mean(scores), np.std(scores)))"
   ]
  },
  {
   "cell_type": "code",
   "execution_count": null,
   "metadata": {},
   "outputs": [],
   "source": []
  }
 ],
 "metadata": {
  "kernelspec": {
   "display_name": "Python 3",
   "language": "python",
   "name": "python3"
  },
  "language_info": {
   "codemirror_mode": {
    "name": "ipython",
    "version": 3
   },
   "file_extension": ".py",
   "mimetype": "text/x-python",
   "name": "python",
   "nbconvert_exporter": "python",
   "pygments_lexer": "ipython3",
   "version": "3.6.8"
  }
 },
 "nbformat": 4,
 "nbformat_minor": 2
}
