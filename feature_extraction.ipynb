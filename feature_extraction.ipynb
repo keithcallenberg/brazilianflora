{
  "nbformat": 4,
  "nbformat_minor": 0,
  "metadata": {
    "kernelspec": {
      "display_name": "Python 3",
      "language": "python",
      "name": "python3"
    },
    "language_info": {
      "codemirror_mode": {
        "name": "ipython",
        "version": 2
      },
      "file_extension": ".py",
      "mimetype": "text/x-python",
      "name": "python",
      "nbconvert_exporter": "python",
      "pygments_lexer": "ipython2",
      "version": "2.7.15"
    },
    "colab": {
      "name": "feature_extraction.ipynb",
      "provenance": [],
      "collapsed_sections": [],
      "toc_visible": true
    }
  },
  "cells": [
    {
      "cell_type": "code",
      "metadata": {
        "id": "_tpChQkNh8v6",
        "colab_type": "code",
        "colab": {
          "base_uri": "https://localhost:8080/",
          "height": 122
        },
        "outputId": "8033fa16-f00b-43d9-99b2-3995f925adaf"
      },
      "source": [
        "from google.colab import drive\n",
        "drive.mount('/content/drive')"
      ],
      "execution_count": null,
      "outputs": [
        {
          "output_type": "stream",
          "text": [
            "Go to this URL in a browser: https://accounts.google.com/o/oauth2/auth?client_id=947318989803-6bn6qk8qdgf4n4g3pfee6491hc0brc4i.apps.googleusercontent.com&redirect_uri=urn%3aietf%3awg%3aoauth%3a2.0%3aoob&response_type=code&scope=email%20https%3a%2f%2fwww.googleapis.com%2fauth%2fdocs.test%20https%3a%2f%2fwww.googleapis.com%2fauth%2fdrive%20https%3a%2f%2fwww.googleapis.com%2fauth%2fdrive.photos.readonly%20https%3a%2f%2fwww.googleapis.com%2fauth%2fpeopleapi.readonly\n",
            "\n",
            "Enter your authorization code:\n",
            "··········\n",
            "Mounted at /content/drive\n"
          ],
          "name": "stdout"
        }
      ]
    },
    {
      "cell_type": "code",
      "metadata": {
        "id": "J7VzDkLxKIp-",
        "colab_type": "code",
        "colab": {
          "base_uri": "https://localhost:8080/",
          "height": 323
        },
        "outputId": "fb287972-c161-4313-8c33-011dee5dd3b1"
      },
      "source": [
        "pip install scikit-learn"
      ],
      "execution_count": null,
      "outputs": [
        {
          "output_type": "stream",
          "text": [
            "Collecting scikit-learn\n",
            "\u001b[?25l  Downloading https://files.pythonhosted.org/packages/d9/3a/eb8d7bbe28f4787d140bb9df685b7d5bf6115c0e2a969def4027144e98b6/scikit_learn-0.23.1-cp36-cp36m-manylinux1_x86_64.whl (6.8MB)\n",
            "\u001b[K     |████████████████████████████████| 6.9MB 2.7MB/s \n",
            "\u001b[?25hRequirement already satisfied, skipping upgrade: numpy>=1.13.3 in /usr/local/lib/python3.6/dist-packages (from scikit-learn) (1.18.5)\n",
            "Requirement already satisfied, skipping upgrade: scipy>=0.19.1 in /usr/local/lib/python3.6/dist-packages (from scikit-learn) (1.4.1)\n",
            "Requirement already satisfied, skipping upgrade: joblib>=0.11 in /usr/local/lib/python3.6/dist-packages (from scikit-learn) (0.16.0)\n",
            "Collecting threadpoolctl>=2.0.0\n",
            "  Downloading https://files.pythonhosted.org/packages/f7/12/ec3f2e203afa394a149911729357aa48affc59c20e2c1c8297a60f33f133/threadpoolctl-2.1.0-py3-none-any.whl\n",
            "Installing collected packages: threadpoolctl, scikit-learn\n",
            "  Found existing installation: scikit-learn 0.22.2.post1\n",
            "    Uninstalling scikit-learn-0.22.2.post1:\n",
            "      Successfully uninstalled scikit-learn-0.22.2.post1\n",
            "Successfully installed scikit-learn-0.23.1 threadpoolctl-2.1.0\n"
          ],
          "name": "stdout"
        },
        {
          "output_type": "display_data",
          "data": {
            "application/vnd.colab-display-data+json": {
              "pip_warning": {
                "packages": [
                  "sklearn"
                ]
              }
            }
          },
          "metadata": {
            "tags": []
          }
        }
      ]
    },
    {
      "cell_type": "markdown",
      "metadata": {
        "id": "AQixcMTViUTs",
        "colab_type": "text"
      },
      "source": [
        "HDF5 CLASS"
      ]
    },
    {
      "cell_type": "code",
      "metadata": {
        "id": "T26mdu-giJJa",
        "colab_type": "code",
        "colab": {}
      },
      "source": [
        "import h5py\n",
        "import os\n",
        "class HDF5DatasetWriter:\n",
        "\tdef __init__(self, dims, outputPath, dataKey=\"images\", bufSize=1000):\n",
        "\t\tif os.path.exists(outputPath):\n",
        "\t\t\traise ValueError(\"Output path exist cannot be overwritten. Manually delete the file before continue\", outputPath)\n",
        "\t\tself.db = h5py.File(outputPath, \"w\")\n",
        "\t\tself.data = self.db.create_dataset(dataKey, dims, dtype=\"float\")\n",
        "\t\tself.labels = self.db.create_dataset(\"labels\", (dims[0],), dtype=\"int\")\n",
        "\t\tself.bufSize = bufSize\n",
        "\t\tself.buffer = {\"data\":[], \"labels\":[]}\n",
        "\t\tself.idx = 0\n",
        "\t\n",
        "\tdef add(self, rows, labels):\n",
        "\t\tself.buffer[\"data\"].extend(rows)\n",
        "\t\tself.buffer[\"labels\"].extend(labels)\n",
        "\t\tif (len(self.buffer[\"data\"]) >= self.bufSize):\n",
        "\t\t\tself.flush()\n",
        "\t\n",
        "\tdef flush(self):\n",
        "\t\ti = self.idx + len(self.buffer[\"data\"])\n",
        "\t\tself.data[self.idx:i] = self.buffer[\"data\"]\n",
        "\t\tself.labels[self.idx:i] = self.buffer[\"labels\"]\n",
        "\t\tself.idx = i\n",
        "\t\tself.buffer = {\"data\":[], \"labels\":[]}\n",
        "\t\n",
        "\tdef storeClassLabels(self, classLabels):\n",
        "\t\tdt = h5py.special_dtype(vlen=str)\n",
        "\t\tlabelSet = self.db.create_dataset(\"label_names\", (len(classLabels), ), dtype=dt)\n",
        "\t\tlabelSet[:] = classLabels\n",
        "\n",
        "\tdef close(self):\n",
        "\t\tif (len(self.buffer[\"data\"])>0):\n",
        "\t\t\tself.flush()\n",
        "\t\tself.db.close()"
      ],
      "execution_count": null,
      "outputs": []
    },
    {
      "cell_type": "markdown",
      "metadata": {
        "id": "l_3gss1cnpPI",
        "colab_type": "text"
      },
      "source": [
        "EXTRACTING FEATURE USING VGG16 AND STORE THE EXTRACTED FEATURES AS HDF5 FILE\n"
      ]
    },
    {
      "cell_type": "code",
      "metadata": {
        "id": "pUk3cMY9ibQd",
        "colab_type": "code",
        "colab": {
          "base_uri": "https://localhost:8080/",
          "height": 51
        },
        "outputId": "11eb83ae-7f8c-4c0c-a404-612859bd8dfa"
      },
      "source": [
        "from tensorflow.keras.applications import VGG16\n",
        "from tensorflow.keras.applications import imagenet_utils\n",
        "from tensorflow.keras.preprocessing.image import img_to_array\n",
        "from tensorflow.keras.preprocessing.image import load_img\n",
        "from sklearn.preprocessing import LabelEncoder\n",
        "#from pyimagesearch.io.hdf5datasetwriter import HDF5DatasetWriter\n",
        "from imutils import paths\n",
        "import numpy as np\n",
        "import progressbar\n",
        "import argparse\n",
        "import random\n",
        "import pandas as pd\n",
        "import os\n",
        "'''\n",
        "from tensorflow.compat.v1 import ConfigProto\n",
        "from tensorflow.compat.v1 import InteractiveSession\n",
        "config = ConfigProto()\n",
        "config.gpu_options.allow_growth = True\n",
        "session = InteractiveSession(config=config)\n",
        "ap = argparse.ArgumentParser()\n",
        "ap.add_argument(\"-d\", \"--dataset\", help= \"path to input dataset\")\n",
        "ap.add_argument(\"-o\", \"--output\", help= \"path to output HDF5 dataset\")\n",
        "ap.add_argument(\"-c\", \"--csv\", help = \"path to csv file\")\n",
        "ap.add_argument(\"-b\", \"--batch_size\", type = int, default = 32, help= \"batch size of images to be passed through network\")\n",
        "ap.add_argument(\"-s\", \"--buffer_size\", type= int, default = 1000, help= \"size of feature extraction buffer\")\n",
        "args = vars(ap.parse_args())\n",
        "bs = args[\"batch_size\"]\n",
        "'''\n",
        "bs = 32\n",
        "labels = []\n",
        "\n",
        "'''\n",
        "imagePaths = list(paths.list_images(args[\"dataset\"]))\n",
        "random.shuffle(imagePaths)\n",
        "labels = [p.split(os.path.sep)[-2] for p in imagePaths]\n",
        "'''\n",
        "#After mounting the google drive\n",
        "#something like /content/drive/\n",
        "csvPath = \"/content/drive/My Drive/Colab_Notebooks/python code/flora.csv\"\n",
        "datasetPath = \"/content/drive/My Drive/cc78ftcdf9-1/\"\n",
        "outPathHDF5 = \"/content/drive/My Drive/Colab_Notebooks/features.hdf5\"\n",
        "\n",
        "dataframe = pd.read_csv(csvPath)\n",
        "ListImageNames = os.listdir(datasetPath)\n",
        "\n",
        "random.shuffle(ListImageNames)\n",
        "\n",
        "for eachImage in ListImageNames:\n",
        "\tfindDot = eachImage.find('.')\n",
        "\timageName = dataframe[dataframe[\"ID\"] == int(eachImage[:findDot])]\n",
        "\tlabels.append(imageName.SPECIES.values[0])\n",
        "le = LabelEncoder()\n",
        "labels = le.fit_transform(labels)\n",
        "\n",
        "print(\"[INFO] loading network...\")\n",
        "model = VGG16(weights=\"imagenet\", include_top = False)\n",
        "\n",
        "dataset = HDF5DatasetWriter((len(ListImageNames), 512 * 7 * 7), outPathHDF5 , dataKey=\"features\", bufSize=1000)\n",
        "dataset.storeClassLabels(le.classes_)\n",
        "\n",
        "widgets = [\"Extracting Features: \", progressbar.Percentage(), \" \", progressbar.Bar(), \" \", progressbar.ETA()]\n",
        "pbar = progressbar.ProgressBar(maxval = len(ListImageNames), widgets = widgets).start()\n",
        "for i in np.arange(0, len(ListImageNames), bs):\n",
        "\tbatchPaths = ListImageNames[i: i + bs]\n",
        "\tbatchLabels = labels[i: i + bs]\n",
        "\tbatchImages = []\n",
        "\t\n",
        "\tfor (j, singleImage) in enumerate(batchPaths):\n",
        "\t\tsingleImagePath = datasetPath + singleImage\n",
        "\t\timage = load_img(singleImagePath, target_size=(224, 224))\n",
        "\t\timage = img_to_array(image)\n",
        "\t\timage = np.expand_dims(image, axis=0)\n",
        "\t\timage = imagenet_utils.preprocess_input(image)\n",
        "\t\tbatchImages.append(image)\n",
        "  \n",
        "\tbatchImages = np.vstack(batchImages)\n",
        "\tfeatures = model.predict(batchImages, batch_size=bs)\n",
        "\tfeatures = features.reshape((features.shape[0], 512*7*7))\n",
        "\tdataset.add(features, batchLabels)\n",
        "\tpbar.update(i)\n",
        "dataset.close()\n",
        "pbar.finish()"
      ],
      "execution_count": null,
      "outputs": [
        {
          "output_type": "stream",
          "text": [
            "[INFO] loading network...\n"
          ],
          "name": "stdout"
        },
        {
          "output_type": "stream",
          "text": [
            "Extracting Features: 100% |####################################| Time:  0:26:14\n"
          ],
          "name": "stderr"
        }
      ]
    },
    {
      "cell_type": "markdown",
      "metadata": {
        "id": "yd-Fq60jn25j",
        "colab_type": "text"
      },
      "source": [
        "USING GRIDSEARCHCV WITH THE EXTRACTED FEATURES."
      ]
    },
    {
      "cell_type": "code",
      "metadata": {
        "id": "4spbs0GjlDs6",
        "colab_type": "code",
        "colab": {
          "base_uri": "https://localhost:8080/",
          "height": 969
        },
        "outputId": "a1c4ec32-ec37-4832-cd6b-cd5ca50ea323"
      },
      "source": [
        "from sklearn.linear_model import LogisticRegression\n",
        "from sklearn.model_selection import GridSearchCV\n",
        "from sklearn.metrics import classification_report\n",
        "import h5py\n",
        "import pickle\n",
        "'''\n",
        "ap = argparse.ArgumentParser()\n",
        "ap.add_argument(\"-d\", \"--db\", help=\"PATH TO HDF5 DATASET\")\n",
        "ap.add_argument(\"-m\", \"--model\", help=\"PATH TO OUTPUT MODEL\")\n",
        "ap.add_argument(\"-j\", \"--jobs\", type=int, default=-1, help= \"# of jobs to run when tuning hyperparameter\")\n",
        "\n",
        "args = vars(ap.parse_args())\n",
        "'''\n",
        "db = h5py.File(\"/content/drive/My Drive/Colab_Notebooks/python code/features.hdf5\",\"r\")\n",
        "i = int(db[\"labels\"].shape[0]*0.75)\n",
        "\n",
        "print(\"[INFO] tuning hyperparameters...\")\n",
        "params = {\"C\": [0.1, 1.0, 10.0]}\n",
        "model = GridSearchCV(LogisticRegression(solver=\"lbfgs\", multi_class=\"auto\", max_iter=10000), params, cv=3, n_jobs=-1)\n",
        "model.fit(db[\"features\"][:i], db[\"labels\"][:i])\n",
        "print(\"[INFO] best hyperparameter: {}\".format(model.best_params_))\n",
        "\n",
        "print(\"[INFO] evaluating...\")\n",
        "preds = model.predict(db[\"features\"][i:])\n",
        "print(classification_report(db[\"labels\"][i:], preds, target_names=db[\"label_names\"]))\n",
        "\n",
        "'''\n",
        "print(\"[INFO] saving model...\")\n",
        "f = open(args[\"model\"], \"wb\")\n",
        "f.write(pickle.dumps(model.best_estimator_))\n",
        "f.close()\n",
        "'''\n",
        "db.close()"
      ],
      "execution_count": null,
      "outputs": [
        {
          "output_type": "stream",
          "text": [
            "[INFO] tuning hyperparameters...\n",
            "[INFO] best hyperparameter: {'C': 1.0}\n",
            "[INFO] evaluating...\n",
            "                             precision    recall  f1-score   support\n",
            "\n",
            "   Acrocarpus fraxinifolius       1.00      1.00      1.00         5\n",
            "     Araucaria angustifolia       1.00      1.00      1.00        17\n",
            "    Aspidosperma polyneuron       1.00      1.00      1.00         5\n",
            "            Aspidosperma sp       1.00      1.00      1.00        10\n",
            "         Bagassa guianensis       1.00      1.00      1.00        16\n",
            "Balfourodendron riedelianum       1.00      1.00      1.00        17\n",
            "       Bertholletia excelsa       1.00      1.00      1.00         8\n",
            "               Bowdichia sp       1.00      1.00      1.00        19\n",
            "     Brosimum parinarioides       1.00      1.00      1.00         7\n",
            "          Carapa guianensis       0.78      1.00      0.88         7\n",
            "     Cariniana estrellensis       1.00      1.00      1.00        12\n",
            "           Cedrela fissilis       1.00      1.00      1.00         9\n",
            "    Cedrelinga cateniformis       1.00      1.00      1.00        19\n",
            "           Cordia goeldiana       1.00      1.00      1.00         7\n",
            "               Couratari sp       1.00      1.00      1.00         9\n",
            "                Dipteryx sp       1.00      1.00      1.00         8\n",
            "           Erisma uncinatum       1.00      1.00      1.00        13\n",
            "              Eucalyptus sp       1.00      1.00      1.00         5\n",
            "         Eugenia pyriformis       1.00      1.00      1.00         6\n",
            "      Euxylophora paraensis       1.00      1.00      1.00        14\n",
            "              Goupia glabra       1.00      1.00      1.00         7\n",
            "          Grevillea robusta       1.00      1.00      1.00        14\n",
            "            Handroanthus sp       1.00      1.00      1.00        11\n",
            "                Hymenaea sp       1.00      1.00      1.00         6\n",
            "      Hymenolobium petraeum       1.00      1.00      1.00         9\n",
            "            Hymenolobium sp       1.00      1.00      1.00         7\n",
            "                  Inga vera       1.00      1.00      1.00         9\n",
            "             Laurus nobilis       1.00      1.00      1.00        13\n",
            "   Machaerium paraguariense       1.00      1.00      1.00         7\n",
            "              Machaerium sp       1.00      1.00      1.00         3\n",
            "            Manilkara elata       1.00      1.00      1.00        11\n",
            "            Melia azedarach       1.00      0.95      0.97        19\n",
            "          Mezilaurus itauba       1.00      1.00      1.00        16\n",
            "       Micropholis venulosa       1.00      1.00      1.00        10\n",
            "           Mimosa scabrella       1.00      0.75      0.86         8\n",
            "        Muellera campestris       1.00      1.00      1.00        10\n",
            "         Myroxylon balsamum       1.00      1.00      1.00         8\n",
            "     Nectandra megapotamica       1.00      1.00      1.00         6\n",
            "            Ocotea indecora       0.83      1.00      0.91         5\n",
            "              Ocotea porosa       1.00      1.00      1.00        13\n",
            "               Peltogyne sp       1.00      1.00      1.00        15\n",
            "                   Pinus sp       1.00      1.00      1.00        13\n",
            "        Pouteria pachycarpa       1.00      1.00      1.00        10\n",
            "            Simarouba amara       1.00      1.00      1.00         5\n",
            "      Swietenia macrophylla       1.00      1.00      1.00        18\n",
            "                Vochysia sp       1.00      1.00      1.00        10\n",
            "\n",
            "                   accuracy                           0.99       476\n",
            "                  macro avg       0.99      0.99      0.99       476\n",
            "               weighted avg       0.99      0.99      0.99       476\n",
            "\n"
          ],
          "name": "stdout"
        }
      ]
    },
    {
      "cell_type": "markdown",
      "metadata": {
        "id": "_kqNoPa0ttyx",
        "colab_type": "text"
      },
      "source": [
        "FEATURE EXTRACTION USING VGG16 WITH SMALLER INPUT 128X128"
      ]
    },
    {
      "cell_type": "code",
      "metadata": {
        "id": "VumhwL6hqxRo",
        "colab_type": "code",
        "colab": {}
      },
      "source": [
        "from tensorflow.keras.applications import VGG16\n",
        "from tensorflow.keras.applications import imagenet_utils\n",
        "from tensorflow.keras.layers import Input\n",
        "from tensorflow.keras.preprocessing.image import img_to_array\n",
        "from tensorflow.keras.preprocessing.image import load_img\n",
        "from sklearn.preprocessing import LabelEncoder\n",
        "#from pyimagesearch.io.hdf5datasetwriter import HDF5DatasetWriter\n",
        "from imutils import paths\n",
        "import numpy as np\n",
        "import progressbar\n",
        "import argparse\n",
        "import random\n",
        "import pandas as pd\n",
        "import os\n",
        "'''\n",
        "from tensorflow.compat.v1 import ConfigProto\n",
        "from tensorflow.compat.v1 import InteractiveSession\n",
        "config = ConfigProto()\n",
        "config.gpu_options.allow_growth = True\n",
        "session = InteractiveSession(config=config)\n",
        "ap = argparse.ArgumentParser()\n",
        "ap.add_argument(\"-d\", \"--dataset\", help= \"path to input dataset\")\n",
        "ap.add_argument(\"-o\", \"--output\", help= \"path to output HDF5 dataset\")\n",
        "ap.add_argument(\"-c\", \"--csv\", help = \"path to csv file\")\n",
        "ap.add_argument(\"-b\", \"--batch_size\", type = int, default = 32, help= \"batch size of images to be passed through network\")\n",
        "ap.add_argument(\"-s\", \"--buffer_size\", type= int, default = 1000, help= \"size of feature extraction buffer\")\n",
        "args = vars(ap.parse_args())\n",
        "bs = args[\"batch_size\"]\n",
        "'''\n",
        "bs = 32\n",
        "labels = []\n",
        "\n",
        "'''\n",
        "imagePaths = list(paths.list_images(args[\"dataset\"]))\n",
        "random.shuffle(imagePaths)\n",
        "labels = [p.split(os.path.sep)[-2] for p in imagePaths]\n",
        "'''\n",
        "#After mounting the google drive\n",
        "#something like /content/drive/\n",
        "csvPath = \"/content/drive/My Drive/Colab_Notebooks/python code/flora.csv\"\n",
        "datasetPath = \"/content/drive/My Drive/cc78ftcdf9-1/\"\n",
        "outPathHDF5 = \"/content/drive/My Drive/Colab_Notebooks/features_128x128res.hdf5\"\n",
        "\n",
        "dataframe = pd.read_csv(csvPath)\n",
        "ListImageNames = os.listdir(datasetPath)\n",
        "\n",
        "random.shuffle(ListImageNames)\n",
        "\n",
        "for eachImage in ListImageNames:\n",
        "\tfindDot = eachImage.find('.')\n",
        "\timageName = dataframe[dataframe[\"ID\"] == int(eachImage[:findDot])]\n",
        "\tlabels.append(imageName.SPECIES.values[0])\n",
        "le = LabelEncoder()\n",
        "labels = le.fit_transform(labels)\n",
        "\n",
        "print(\"[INFO] loading network...\")\n",
        "model = VGG16(weights=\"imagenet\", include_top = False, input_tensor=Input(shape=(128,128,3)))\n",
        "\n",
        "dataset = HDF5DatasetWriter((len(ListImageNames), 512 * 4 * 4), outPathHDF5 , dataKey=\"features\", bufSize=1000)\n",
        "dataset.storeClassLabels(le.classes_)\n",
        "\n",
        "widgets = [\"Extracting Features: \", progressbar.Percentage(), \" \", progressbar.Bar(), \" \", progressbar.ETA()]\n",
        "pbar = progressbar.ProgressBar(maxval = len(ListImageNames), widgets = widgets).start()\n",
        "for i in np.arange(0, len(ListImageNames), bs):\n",
        "\tbatchPaths = ListImageNames[i: i + bs]\n",
        "\tbatchLabels = labels[i: i + bs]\n",
        "\tbatchImages = []\n",
        "\t\n",
        "\tfor (j, singleImage) in enumerate(batchPaths):\n",
        "\t\tsingleImagePath = datasetPath + singleImage\n",
        "\t\timage = load_img(singleImagePath, target_size=(128, 128))\n",
        "\t\timage = img_to_array(image)\n",
        "\t\timage = np.expand_dims(image, axis=0)\n",
        "\t\timage = imagenet_utils.preprocess_input(image)\n",
        "\t\tbatchImages.append(image)\n",
        "  \n",
        "\tbatchImages = np.vstack(batchImages)\n",
        "\tfeatures = model.predict(batchImages, batch_size=bs)\n",
        "\tfeatures = features.reshape((features.shape[0], 512*4*4))\n",
        "\tdataset.add(features, batchLabels)\n",
        "\tpbar.update(i)\n",
        "dataset.close()\n",
        "pbar.finish()"
      ],
      "execution_count": null,
      "outputs": []
    },
    {
      "cell_type": "markdown",
      "metadata": {
        "id": "oxuaiAGjF-ne",
        "colab_type": "text"
      },
      "source": [
        "CREATE A SIMPLE PROGRAM TO TEST THE TRAINING MODEL."
      ]
    },
    {
      "cell_type": "code",
      "metadata": {
        "id": "l4Zw_QizGFiY",
        "colab_type": "code",
        "colab": {
          "base_uri": "https://localhost:8080/",
          "height": 162
        },
        "outputId": "6213a92e-56cb-4fa1-cd50-d7ac1143ab7f"
      },
      "source": [
        "from tensorflow.keras.applications import VGG16\n",
        "from tensorflow.compat.v1 import ConfigProto\n",
        "from tensorflow.compat.v1 import InteractiveSession\n",
        "from tensorflow.keras.applications import imagenet_utils\n",
        "from google.colab.patches import cv2_imshow\n",
        "import numpy as np\n",
        "import h5py\n",
        "import argparse\n",
        "import pickle\n",
        "import cv2\n",
        "'''\n",
        "ap =argparse.ArgumentParser()\n",
        "ap.add_argument(\"-d\", \"--db\", help=\"PATH TO THE HDF5 DATASET\")\n",
        "ap.add_argument(\"-m\", \"--model\", help=\"PATH TO THE TRAIN MODEL\")\n",
        "ap.add_argument(\"-i\", \"--image\", help=\"PATH TO THE IMAGE\")\n",
        "args = vars(ap.parse_args())\n",
        "'''\n",
        "testImagePath = \"/content/drive/My Drive/cc78ftcdf9-1/0101.jpg\"\n",
        "#GET THE DATA SET LABELS\n",
        "db = h5py.File(\"/content/drive/My Drive/Colab_Notebooks/python code/features_low_res.hdf5\",\"r\")\n",
        "\n",
        "#LOAD THE TRAIN MODEL.\n",
        "model = \"/content/drive/My Drive/Colab_Notebooks/python code/floras_low_res.pickle\"\n",
        "loaded_model = pickle.load(open(model,\"rb\"))\n",
        "\n",
        "#LOAD A VGG16 MODEL WITH INPUT OF 224X224\n",
        "model = VGG16(weights=\"imagenet\", include_top = False)\n",
        "\n",
        "#AUGMENTING THE IMAGE - BLURRING THE IMAGE USING GAUSSIANBLUR 5X5 FILTER\n",
        "image = cv2.imread(testImagePath)\n",
        "image = cv2.resize(image, (128,128),interpolation = cv2.INTER_AREA)\n",
        "image = cv2.GaussianBlur(image, (5,5), 0)\n",
        "cv2_imshow(image)\n",
        "\n",
        "#PREPROCESS THE IMAGE\n",
        "image = np.expand_dims(image, axis = 0)\n",
        "image = imagenet_utils.preprocess_input(image)\n",
        "\n",
        "#EXTRACTING FEATURE OF THE PREPROCESS IMAGE \n",
        "features = model.predict(image, batch_size = 1)\n",
        "features = features.reshape((features.shape[0], 512*4*4))\n",
        "\n",
        "preds = loaded_model.predict(features.reshape(1,-1))\n",
        "print(db[\"label_names\"][preds])"
      ],
      "execution_count": 6,
      "outputs": [
        {
          "output_type": "display_data",
          "data": {
            "image/png": "[encoded data removed]",
            "text/plain": [
              "<PIL.Image.Image image mode=RGB size=128x128 at 0x7FB728CDA2B0>"
            ]
          },
          "metadata": {
            "tags": []
          }
        },
        {
          "output_type": "stream",
          "text": [
            "['Handroanthus sp']\n"
          ],
          "name": "stdout"
        }
      ]
    }
  ]
}